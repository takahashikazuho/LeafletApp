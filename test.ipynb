{
 "cells": [
  {
   "cell_type": "code",
   "execution_count": 2,
   "metadata": {},
   "outputs": [
    {
     "data": {
      "application/vnd.jupyter.widget-view+json": {
       "model_id": "8734f93b31f346d8adc8c41a1cd66a9d",
       "version_major": 2,
       "version_minor": 0
      },
      "text/plain": [
       "Calculating shortest paths:   0%|          | 0/23338 [00:00<?, ?it/s]"
      ]
     },
     "metadata": {},
     "output_type": "display_data"
    },
    {
     "ename": "KeyboardInterrupt",
     "evalue": "",
     "output_type": "error",
     "traceback": [
      "\u001b[1;31m---------------------------------------------------------------------------\u001b[0m",
      "\u001b[1;31mKeyboardInterrupt\u001b[0m                         Traceback (most recent call last)",
      "Cell \u001b[1;32mIn[2], line 48\u001b[0m\n\u001b[0;32m     43\u001b[0m     \u001b[38;5;66;03m# DBにまとめて書き込む\u001b[39;00m\n\u001b[0;32m     44\u001b[0m     records \u001b[38;5;241m=\u001b[39m [\n\u001b[0;32m     45\u001b[0m         (coord1, \u001b[38;5;28mstr\u001b[39m(target), dist)\n\u001b[0;32m     46\u001b[0m         \u001b[38;5;28;01mfor\u001b[39;00m target, dist \u001b[38;5;129;01min\u001b[39;00m lengths\u001b[38;5;241m.\u001b[39mitems() \u001b[38;5;28;01mif\u001b[39;00m target \u001b[38;5;241m!=\u001b[39m source\n\u001b[0;32m     47\u001b[0m     ]\n\u001b[1;32m---> 48\u001b[0m     cur\u001b[38;5;241m.\u001b[39mexecutemany(\n\u001b[0;32m     49\u001b[0m         \u001b[38;5;124m'\u001b[39m\u001b[38;5;124mINSERT INTO paths (coord1, coord2, length) VALUES (?, ?, ?)\u001b[39m\u001b[38;5;124m'\u001b[39m,\n\u001b[0;32m     50\u001b[0m         records\n\u001b[0;32m     51\u001b[0m     )\n\u001b[0;32m     52\u001b[0m \u001b[38;5;66;03m# withブロックで自動commit\u001b[39;00m\n",
      "\u001b[1;31mKeyboardInterrupt\u001b[0m: "
     ]
    }
   ],
   "source": [
    "import networkx as nx\n",
    "import sqlite3\n",
    "import pathSearch, db\n",
    "from tqdm.notebook import tqdm  # ノートブックではこちらが見やすい\n",
    "\n",
    "dbpath = \"paths_dict.db\"\n",
    "\n",
    "# 1. 領域指定\n",
    "points = [\n",
    "    [35.20902036505841, 136.86844825744632],\n",
    "    [35.140265534798395, 137.02620506286624]\n",
    "]\n",
    "y1, x1, y2, x2 = pathSearch.rectangleArea(points)\n",
    "\n",
    "# 2. 道路データ取得（link, length形式の取得）\n",
    "link, length = db.getRectangleRoadData(y1, x1, y2, x2)\n",
    "\n",
    "# 3. NetworkX用グラフ作成\n",
    "G = pathSearch.linkToGraph(link, length)\n",
    "\n",
    "# 4. SQLiteのテーブル用意\n",
    "with sqlite3.connect(dbpath) as conn:\n",
    "    cur = conn.cursor()\n",
    "    # テーブルとインデックス作成（進捗検索にも速い）\n",
    "    cur.execute('''\n",
    "        CREATE TABLE IF NOT EXISTS paths (\n",
    "            id INTEGER PRIMARY KEY AUTOINCREMENT,\n",
    "            coord1 TEXT,\n",
    "            coord2 TEXT,\n",
    "            length REAL\n",
    "        )\n",
    "    ''')\n",
    "    cur.execute('CREATE INDEX IF NOT EXISTS idx_coord1 ON paths(coord1)')\n",
    "    cur.execute('CREATE INDEX IF NOT EXISTS idx_coord2 ON paths(coord2)')\n",
    "    cur.execute('CREATE INDEX IF NOT EXISTS idx_pair ON paths(coord1, coord2)')\n",
    "    conn.commit()\n",
    "\n",
    "    # 5. 最短経路長の計算・DB登録\n",
    "    nodes = list(G.nodes)\n",
    "    for source in tqdm(nodes, desc=\"Calculating shortest paths\"):\n",
    "        lengths = nx.single_source_dijkstra_path_length(G, source, weight='length')\n",
    "        coord1 = str(source)\n",
    "        # DBにまとめて書き込む\n",
    "        records = [\n",
    "            (coord1, str(target), dist)\n",
    "            for target, dist in lengths.items() if target != source\n",
    "        ]\n",
    "        cur.executemany(\n",
    "            'INSERT INTO paths (coord1, coord2, length) VALUES (?, ?, ?)',\n",
    "            records\n",
    "        )\n",
    "    # withブロックで自動commit"
   ]
  },
  {
   "cell_type": "code",
   "execution_count": 3,
   "metadata": {},
   "outputs": [
    {
     "ename": "PermissionError",
     "evalue": "[WinError 32] プロセスはファイルにアクセスできません。別のプロセスが使用中です。: 'paths.db'",
     "output_type": "error",
     "traceback": [
      "\u001b[1;31m---------------------------------------------------------------------------\u001b[0m",
      "\u001b[1;31mPermissionError\u001b[0m                           Traceback (most recent call last)",
      "Cell \u001b[1;32mIn[3], line 2\u001b[0m\n\u001b[0;32m      1\u001b[0m \u001b[38;5;28;01mimport\u001b[39;00m \u001b[38;5;21;01mos\u001b[39;00m\n\u001b[1;32m----> 2\u001b[0m \u001b[43mos\u001b[49m\u001b[38;5;241;43m.\u001b[39;49m\u001b[43mremove\u001b[49m\u001b[43m(\u001b[49m\u001b[38;5;124;43m\"\u001b[39;49m\u001b[38;5;124;43mpaths.db\u001b[39;49m\u001b[38;5;124;43m\"\u001b[39;49m\u001b[43m)\u001b[49m\n",
      "\u001b[1;31mPermissionError\u001b[0m: [WinError 32] プロセスはファイルにアクセスできません。別のプロセスが使用中です。: 'paths.db'"
     ]
    }
   ],
   "source": [
    "import os\n",
    "os.remove(\"paths.db\")"
   ]
  }
 ],
 "metadata": {
  "kernelspec": {
   "display_name": "Python 3",
   "language": "python",
   "name": "python3"
  },
  "language_info": {
   "codemirror_mode": {
    "name": "ipython",
    "version": 3
   },
   "file_extension": ".py",
   "mimetype": "text/x-python",
   "name": "python",
   "nbconvert_exporter": "python",
   "pygments_lexer": "ipython3",
   "version": "3.11.3"
  },
  "orig_nbformat": 4
 },
 "nbformat": 4,
 "nbformat_minor": 2
}
